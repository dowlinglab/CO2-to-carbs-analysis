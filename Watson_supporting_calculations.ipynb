{
 "cells": [
  {
   "cell_type": "markdown",
   "id": "18039b42",
   "metadata": {},
   "source": [
    "# Supporting Calculations and Visualizations for Challenges and Opportunities in Converting CO$_2$ to Carbohydrates \n",
    "\n",
    "### (c) 2022 Madelynn J. Watson, Alexander W. Dowling, Casey P. O'Brian"
   ]
  },
  {
   "cell_type": "code",
   "execution_count": 1,
   "id": "3e882caa",
   "metadata": {},
   "outputs": [],
   "source": [
    "import numpy as np\n",
    "import matplotlib.pyplot as plt\n",
    "import pandas as pd"
   ]
  },
  {
   "cell_type": "markdown",
   "id": "83b93cb8",
   "metadata": {},
   "source": [
    "## Nominal Case Analysis"
   ]
  },
  {
   "cell_type": "markdown",
   "id": "f89371a6",
   "metadata": {},
   "source": [
    "This section of code shows the calculations of energy intensity, GHG emissions intensity, land-use intensity, and artificial carbohydrate cost using the nominal values from Table S1 in the SI."
   ]
  },
  {
   "cell_type": "markdown",
   "id": "59e952af",
   "metadata": {},
   "source": [
    "### Energy Intensity"
   ]
  },
  {
   "cell_type": "code",
   "execution_count": 2,
   "id": "f7c68cc8",
   "metadata": {},
   "outputs": [
    {
     "name": "stdout",
     "output_type": "stream",
     "text": [
      "Nominal energy intensity 51446.67 kJ / kg glucose , 14291.88 TWh / Gt glucose\n"
     ]
    }
   ],
   "source": [
    "def energy_intensity(E_DAC=243, E_H2O=0.4, E_reaction=7800, water_efficiency=1, n=6, mw=180):\n",
    "    '''Calculates the total energy intensity of artificial carbohydrate production, Eq 4 in the SI\n",
    "        \n",
    "          Arguments:  \n",
    "              E_DAC: DAC energy requirement (kJ/mol of CO2)\n",
    "              E_H2O: Water desalination energy requirement (kJ/mol of H2O)\n",
    "              E_reaction: Reaction energy requirement (kJ/mol carbohydrate) \n",
    "              water_efficiency: Water use efficiency (dimentionless)\n",
    "              n: Stoichiometry of H2O:carb and CO2:carb (dimentionless)\n",
    "              mw: Molecular weight of carbohydrate (g/mol)\n",
    "        \n",
    "          Returns:\n",
    "              Total energy intensity (kJ/kg carbohydrate)\n",
    "             \n",
    "    '''\n",
    "    energy = (E_DAC*n + E_H2O*n*water_efficiency + E_reaction) / mw*1000  #kJ/kg\n",
    "    return energy\n",
    " \n",
    "# (MWh/Twh)*(kJ/MWh)*(Gt/kg)\n",
    "kj_per_kg_to_TWh_per_Gt = 1000000 / (2.778e-7 * 1e12)\n",
    "\n",
    "Energy_Intensity = energy_intensity()\n",
    "print('Nominal energy intensity',np.round(Energy_Intensity,2),'kJ / kg glucose',',', np.round((Energy_Intensity/kj_per_kg_to_TWh_per_Gt),2), 'TWh / Gt glucose')"
   ]
  },
  {
   "cell_type": "markdown",
   "id": "411a4df2",
   "metadata": {},
   "source": [
    "### Artificial Carbohydrate Cost"
   ]
  },
  {
   "cell_type": "code",
   "execution_count": 3,
   "id": "da75493b",
   "metadata": {},
   "outputs": [
    {
     "name": "stdout",
     "output_type": "stream",
     "text": [
      "Nominal estimated cost of carbohydrate 1.14 Trillion $ / Gt glucose 1.14 $ / kg glucose\n"
     ]
    }
   ],
   "source": [
    "def carb_cost(energy=Energy_Intensity, energy_cost=80):\n",
    "    '''Calculates the cost of artificial carbohydrate production, Eq 5 in the SI\n",
    "        \n",
    "          Arguments:  \n",
    "              energy: Total energy intensity (kJ/kg carbohydrate)\n",
    "              energy_cost: Cost of electricity ($/MWh)\n",
    "        \n",
    "          Returns:\n",
    "              Artificial carbohydrate cost ($/Gt carbohydrate)\n",
    "             \n",
    "    ''' \n",
    "    #(kJ/MWh)*(Gt/kg)\n",
    "    kj_per_kg_to_MWh_per_Gt = (2.778e-7 * 1e12)\n",
    "    Cost = (energy *  kj_per_kg_to_MWh_per_Gt) * energy_cost\n",
    "    return Cost\n",
    "    \n",
    "#(Gt/kg)\n",
    "Gt_to_kg = 1e12\n",
    "\n",
    "Artificial_carb_cost = carb_cost()\n",
    "print('Nominal estimated cost of carbohydrate',np.round(Artificial_carb_cost/1e12,2),'Trillion $ / Gt glucose',np.round((Artificial_carb_cost/Gt_to_kg),2),'$ / kg glucose' )"
   ]
  },
  {
   "cell_type": "markdown",
   "id": "736c1d3c",
   "metadata": {},
   "source": [
    "### GHG Emissions Intensity"
   ]
  },
  {
   "cell_type": "code",
   "execution_count": 4,
   "id": "5cd879e6",
   "metadata": {},
   "outputs": [
    {
     "name": "stdout",
     "output_type": "stream",
     "text": [
      "CO2 consumed by reaction 1.47 kg CO2 / kg glucose\n",
      "CO2 produced by solar powered electricty 0.14 kg CO2 / kg glucose\n",
      "Nominal GHG emissions intensity -1.32 kg CO2 / kg glucose , -1.32 Gt CO2 / Gt glucose\n"
     ]
    }
   ],
   "source": [
    "def emissions_intensity(mw_CO2=44, mw=180, n=6, CO2_intensity=10, energy=Energy_Intensity):\n",
    "    '''Calculates the GHG emissions intensity of artificial carbohydrate production, Eqs 6-8 in the SI\n",
    "        \n",
    "          Arguments:  \n",
    "              mw_CO2: Molecular weight of CO2 (g/mol)\n",
    "              mw: Molecular weight of carbohydrate (g/mol)\n",
    "              n: Stoichiometry of H2O:carb and CO2:carb (dimentionless)\n",
    "              CO2_intensity: CO2 intensity of electricity source (gCO2eq/kWh)\n",
    "              energy: Total energy intensity (kJ/kg carbohydrate)\n",
    "        \n",
    "          Returns:\n",
    "              GHG emissions intensity(kg CO2eq/kg carbohydrate)\n",
    "              CO2 consumed in reaction (kg CO2/kg carbohydrate)\n",
    "              CO2 produced by electricity consumption (kg CO2eq/kg carbohydrate)\n",
    "             \n",
    "    '''\n",
    "    #(g/kg)\n",
    "    g_to_kg = 1000\n",
    "    \n",
    "    #(kJ/kWh)\n",
    "    kj_to_kWh = 3600\n",
    "    \n",
    "    CO2_consumed = n*mw_CO2 / mw #kg of CO2 per kg carb\n",
    "    CO2_emission_estimate = energy*CO2_intensity / g_to_kg / kj_to_kWh #kg CO2 / kg carb\n",
    "    CO2_emissions = CO2_emission_estimate - CO2_consumed\n",
    "    return CO2_emissions, CO2_consumed, CO2_emission_estimate\n",
    "    \n",
    "    \n",
    "GHG_emissions_intensity = emissions_intensity()\n",
    "print('CO2 consumed by reaction',np.round(GHG_emissions_intensity[1],2),'kg CO2 / kg glucose')\n",
    "print('CO2 produced by solar powered electricty', np.round(GHG_emissions_intensity[2],2),'kg CO2 / kg glucose')\n",
    "print('Nominal GHG emissions intensity', np.round(GHG_emissions_intensity[0],2), 'kg CO2 / kg glucose', ',',np.round(GHG_emissions_intensity[0],2),'Gt CO2 / Gt glucose')\n"
   ]
  },
  {
   "cell_type": "markdown",
   "id": "965d0f61",
   "metadata": {},
   "source": [
    "### Water-use Intensity"
   ]
  },
  {
   "cell_type": "code",
   "execution_count": 5,
   "id": "423a0ec4",
   "metadata": {},
   "outputs": [
    {
     "name": "stdout",
     "output_type": "stream",
     "text": [
      "Nominal water-use intensity 0.6 kg water/kg glucose , 0.6 Gt water/Gt glucose\n"
     ]
    }
   ],
   "source": [
    "def water_use(n=6, mw=180, mw_H2O=18, water_efficiency=1):\n",
    "    '''Calculates the water-use intensity of artificial carbohydrate production, Eq 9 in the SI\n",
    "        \n",
    "          Arguments:  \n",
    "              n: Stoichiometry of H2O:carb and CO2:carb (dimentionless)\n",
    "              mw: Molecular weight of carbohydrate (g/mol)\n",
    "              mw_H2O: Molecular weight of water (g/mol) \n",
    "              water_efficiency: Water use efficiency (dimentionless)\n",
    "        \n",
    "          Returns:\n",
    "              Water-use intensity (kg H2O/kg carbohydrate)\n",
    "             \n",
    "    '''\n",
    "    Water_intensity = n*mw_H2O / mw \n",
    "    return Water_intensity\n",
    "\n",
    "\n",
    "Water_use_intensity = water_use()\n",
    "\n",
    "print('Nominal water-use intensity', Water_use_intensity, 'kg water/kg glucose',',', Water_use_intensity, 'Gt water/Gt glucose')"
   ]
  },
  {
   "cell_type": "markdown",
   "id": "28fa1f07",
   "metadata": {},
   "source": [
    "### Land-use Intensity"
   ]
  },
  {
   "cell_type": "code",
   "execution_count": 6,
   "id": "699ed3f0",
   "metadata": {},
   "outputs": [
    {
     "name": "stdout",
     "output_type": "stream",
     "text": [
      "Nominal land-use intensity from solar fields 0.71 million hectares / Gt glucose\n"
     ]
    }
   ],
   "source": [
    "def land_intensity(energy=Energy_Intensity, lau=500):\n",
    "    '''Calculates the land-use intensity of artificial carbohydrate production, Eq 10 in the SI\n",
    "        \n",
    "          Arguments:  \n",
    "              energy: Total energy intensity (kJ/kg carbohydrate)\n",
    "              lau: Land-use factor of solar field (m2/GWh)\n",
    "        \n",
    "          Returns:\n",
    "              Land-use intensity (hectares/Gt carbohydrate)\n",
    "             \n",
    "    '''\n",
    "    #(m2/GWh)(GWh/TWh)(hectares/m2)\n",
    "    m2_per_GWh_to_hectares_per_TWh = 0.1    \n",
    "    \n",
    "    land_use = (energy/kj_per_kg_to_TWh_per_Gt) * lau * m2_per_GWh_to_hectares_per_TWh\n",
    "    return land_use\n",
    "\n",
    "\n",
    "Land_use_intensity = land_intensity()\n",
    "\n",
    "print('Nominal land-use intensity from solar fields', np.round(Land_use_intensity/1e6,2), 'million hectares / Gt glucose')"
   ]
  },
  {
   "cell_type": "markdown",
   "id": "4e19439b",
   "metadata": {},
   "source": [
    "### Electricty-to-Carbohydrate Efficiency"
   ]
  },
  {
   "cell_type": "code",
   "execution_count": 10,
   "id": "b2775116",
   "metadata": {},
   "outputs": [
    {
     "name": "stdout",
     "output_type": "stream",
     "text": [
      "Nominal electricity-to-carbohydrate efficiency: 46.0 %\n",
      "High value electricity-to-carbohydrate efficiency: 48.1 %\n",
      "Low value electricity-to-carbohydrate efficiency: 38.3 %\n"
     ]
    }
   ],
   "source": [
    "def theoretical_reaction_energy(H_fcarb = -1273.6 , H_fwater = -285.8, H_fco2 = -393.5, H_foxygen = 0 , n = 6):\n",
    "    '''Calculates the thermodynamic rection energy for CO2 to glucose, Eq 2 in the SI\n",
    "        \n",
    "          Arguments:  \n",
    "              H_fcarb: Heat of formation of solid glucose (kJ/mol glucose)\n",
    "              H_fwater: Heat of formation of liquid water (kJ/mol water)\n",
    "              H_fco2: Heat of formation of co2 gas (kJ/mol co2)\n",
    "              H_foxygen: Heat of formation of oxygen gas (kJ/mol oxygen)\n",
    "              n: Stoichiometry of H2O:carb and CO2:carb (dimentionless)\n",
    "        \n",
    "          Returns:\n",
    "              delta_H: Thermodynamic reaction energy requirement (kJ/mol glucose)\n",
    "             \n",
    "    '''\n",
    "    delta_H = (H_fcarb + H_foxygen) - (H_fco2*n + H_fwater*n)\n",
    "    return delta_H\n",
    "    \n",
    "    \n",
    "def elec_to_carb_eff(E_DAC=243, E_H2O=0.4, E_reaction=7800, water_efficiency=1, n=6, delta_H = theoretical_reaction_energy()):\n",
    "    '''Calculates the electricity-to-carb efficiency, Eq 5 in the SI\n",
    "        \n",
    "          Arguments:  \n",
    "              E_DAC: DAC energy requirement (kJ/mol of CO2)\n",
    "              E_H2O: Water desalination energy requirement (kJ/mol of H2O)\n",
    "              E_reaction: Reaction energy requirement (kJ/mol carbohydrate) \n",
    "              water_efficiency: Water use efficiency (dimentionless)\n",
    "              n: Stoichiometry of H2O:carb and CO2:carb (dimentionless)\n",
    "              delta_H: Thermodynamic reaction energy requirement (kJ/mol carbohydrate)\n",
    "        \n",
    "          Returns:\n",
    "              electricity-to-carb efficiency (dimentionless)\n",
    "             \n",
    "    '''\n",
    "    minimum_E = (6*E_DAC + 6*E_H2O/water_efficiency + delta_H)\n",
    "    total_E = (6*E_DAC + 6*E_H2O/water_efficiency + E_reaction)\n",
    "    Electricity_to_carb_efficiency = minimum_E/total_E\n",
    "    return Electricity_to_carb_efficiency\n",
    "\n",
    "print('Nominal electricity-to-carbohydrate efficiency:', np.round(elec_to_carb_eff()*100,1),'%')\n",
    "print('High value electricity-to-carbohydrate efficiency:', np.round(elec_to_carb_eff(E_DAC=300, water_efficiency=0.1)*100,1),'%')\n",
    "print('Low value electricity-to-carbohydrate efficiency:', np.round(elec_to_carb_eff(E_DAC=50)*100,1),'%')\n",
    "\n",
    "    \n"
   ]
  },
  {
   "cell_type": "markdown",
   "id": "6e3c841e",
   "metadata": {},
   "source": [
    "## Tornado Diagrams"
   ]
  },
  {
   "cell_type": "markdown",
   "id": "a62ec269",
   "metadata": {},
   "source": [
    "This section code generates the tornado diagrams in Figure 1."
   ]
  },
  {
   "cell_type": "markdown",
   "id": "cad6bdcd",
   "metadata": {},
   "source": [
    "### Energy Intensity, Panel (a)"
   ]
  },
  {
   "cell_type": "code",
   "execution_count": null,
   "id": "87f76615",
   "metadata": {},
   "outputs": [],
   "source": [
    "#Parameter Variation\n",
    "#Parameter: DAC energy req, see SI Table 1\n",
    "E_DAC = np.linspace(50,300,20) #kJ/mol CO2\n",
    "E_sen_1 = np.zeros(len(E_DAC)) #creates empty array to store sensitivity results\n",
    "\n",
    "for i in range(len(E_DAC)):\n",
    "    E_sen_1[i] = energy_intensity(E_DAC=E_DAC[i]) / kj_per_kg_to_TWh_per_Gt \n",
    "\n",
    "#Parameter Reaction energy req, see SI Total Energy of Artificial Carbohydrate Synthesis\n",
    "E_reaction = np.linspace(2800,7800,20) #kJ/mol glucose\n",
    "E_sen_2 = np.zeros(len(E_reaction)) #creates empty array to store sensitivity results\n",
    "\n",
    "for i in range(len(E_reaction)):\n",
    "    E_sen_2[i] = energy_intensity(E_reaction=E_reaction[i]) / kj_per_kg_to_TWh_per_Gt \n",
    "\n",
    "#Parameter Water efficiency, see SI Table 1\n",
    "water_efficiency = np.linspace(1,10,20) #dimensionless\n",
    "E_sen_3 = np.zeros(len(water_efficiency)) #creates empty array to store sensitivity results\n",
    "\n",
    "for i in range(len(water_efficiency)):\n",
    "    E_sen_3[i] = energy_intensity(water_efficiency=water_efficiency[i]) / kj_per_kg_to_TWh_per_Gt \n",
    "    "
   ]
  },
  {
   "cell_type": "code",
   "execution_count": null,
   "id": "790a50b5",
   "metadata": {},
   "outputs": [],
   "source": [
    "#Plot Generation\n",
    "\n",
    "#The results of the parameter varaition were put into a pandas data frame so the values could later be sorted\n",
    "#params is the parameter name of each bar \n",
    "#values is the difference between the max and min of the parameter variation (bar width)\n",
    "#start is the minimum point of the parameter variation and defines the starting value of each bar\n",
    "#For the desaliniation energy requirement the value 150 was hardcoded to make sure a bar appeared in the diagram\n",
    "#this is just for visual purpose since the actual variation is so small it doesn't show up\n",
    "#The correct values are reported as the data labels\n",
    "df = pd.DataFrame(\n",
    "    dict(\n",
    "        params = ['DAC Energy\\n Requirement','Reaction Energy\\n Requirement','Desalination Energy\\n Requirement'],\n",
    "        values = [E_sen_1[-1]-E_sen_1[0] ,E_sen_2[-1]-E_sen_2[0], 150],\n",
    "        start = [E_sen_1[0],E_sen_2[0],E_sen_3[0]]\n",
    "    )\n",
    ")\n",
    "\n",
    "#The command below sorts the 'values' (barwidth) so they are displayed in the diagram as highest to lowest\n",
    "#This ensures the tornado-like appearence\n",
    "df_sorted = df.sort_values('values')\n",
    "\n",
    "#re-index the dataframe to go 0-5 after sorting\n",
    "df_sorted['index'] = np.arange(0,len(df['params']),1)\n",
    "df_sorted.set_index('index',inplace=True)\n",
    "\n",
    "fig, ax = plt.subplots()\n",
    "ax.xaxis.set_tick_params(labelsize=14)\n",
    "ax.yaxis.set_tick_params(labelsize=14)\n",
    "p = ax.barh('params','values', data=df_sorted,left='start')\n",
    "ax.set_title('Energy Intensity', fontsize=16, fontweight='bold')\n",
    "ax.set_xlabel('Total Energy (TWh / Gt C$_6$H$_{12}$O$_6$)', fontsize=14, fontweight='bold')\n",
    "ax.axvline((energy_intensity()/kj_per_kg_to_TWh_per_Gt), color='black', linewidth=0.8, linestyle='--',label='Nominal')\n",
    "ax.legend(loc='lower right',fontsize=14)\n",
    "\n",
    "#limits for left and right of x axis\n",
    "ax.set_xlim(left=3000)\n",
    "ax.set_xlim(right=25000)\n",
    "\n",
    "#Setting bar labels\n",
    "#left side labels\n",
    "shift_l = 3000\n",
    "for i in range(len(df_sorted['start'])):\n",
    "    plt.text(df_sorted['start'][i] - shift_l,i,round(df_sorted['start'][i]),fontsize=14)\n",
    "\n",
    "#right side labels\n",
    "shift_r = 300\n",
    "for i in range(len(df_sorted['start'])):\n",
    "    plt.text(df_sorted['start'][i] + df_sorted['values'][i] + shift_r,i,round(df_sorted['start'][i] + df_sorted['values'][i]),fontsize=14)\n",
    "\n",
    "\n",
    "print('Nominal Case:', np.round((energy_intensity()/kj_per_kg_to_TWh_per_Gt),2),'TWh / Gt glucose')\n",
    "\n",
    "\n",
    "plt.savefig('energytornado.pdf',bbox_inches='tight')\n",
    "plt.savefig('energytornado.png',bbox_inches='tight')\n",
    "plt.show()"
   ]
  },
  {
   "cell_type": "markdown",
   "id": "94b603a1",
   "metadata": {},
   "source": [
    "### GHG Emissions Intensity, Panel (b) "
   ]
  },
  {
   "cell_type": "code",
   "execution_count": null,
   "id": "c863915d",
   "metadata": {},
   "outputs": [],
   "source": [
    "#Parameter Variation\n",
    "#Parameter: DAC energy requirement\n",
    "co2_sen_1 = np.zeros(len(E_DAC)) #creates empty array to store sensitivity results\n",
    "\n",
    "for i in range(len(E_DAC)):\n",
    "    co2_sen_1[i] = emissions_intensity(energy=energy_intensity(E_DAC=E_DAC[i]))[0]\n",
    "    \n",
    "#Parameter: Reaction energy requirement\n",
    "co2_sen_2 = np.zeros(len(E_reaction)) #creates empty array to store sensitivity results\n",
    "\n",
    "for i in range(len(E_reaction)):\n",
    "    co2_sen_2[i] = emissions_intensity(energy=energy_intensity(E_reaction=E_reaction[i]))[0]\n",
    "    \n",
    "#Parameter: Water efficiency\n",
    "co2_sen_3 = np.zeros(len(water_efficiency)) #creates empty array to store sensitivity results\n",
    "\n",
    "for i in range(len(water_efficiency)):\n",
    "    co2_sen_3[i] = emissions_intensity(energy=energy_intensity(water_efficiency=water_efficiency[i]))[0]  \n",
    "    \n",
    "#Parameter: Solar CO2 intensity, see SI Table 1\n",
    "CO2_intensity_s = np.linspace(3,38,20) #gCO2eq/kWh\n",
    "co2_sen_4 = np.zeros(len(CO2_intensity_s)) #creates empty array to store sensitivity results\n",
    "\n",
    "for i in range(len(CO2_intensity_s)):\n",
    "    co2_sen_4[i] = emissions_intensity(CO2_intensity=CO2_intensity_s[i], energy=energy_intensity())[0]\n",
    "\n",
    "#Parameter: NG CO2 intensity, see SI Table 1\n",
    "CO2_intensity_ng = np.linspace(450,670,20) #gCO2eq/kWh\n",
    "co2_sen_5 = np.zeros(len(CO2_intensity_ng)) #creates empty array to store sensitivity results\n",
    "\n",
    "\n",
    "for i in range(len(CO2_intensity_ng)):\n",
    "    co2_sen_5[i] = emissions_intensity(CO2_intensity=CO2_intensity_ng[i], energy=energy_intensity())[0]\n",
    "\n",
    "#Parameter: Coal CO2 intensity, see SI Table 1\n",
    "CO2_intensity_c = np.linspace(675,1689,20) #gCO2eq/kWh\n",
    "co2_sen_6 = np.zeros(len(CO2_intensity_c)) #creates empty array to store sensitivity results\n",
    "\n",
    "for i in range(len(CO2_intensity_c)):\n",
    "    co2_sen_6[i] = emissions_intensity(CO2_intensity=CO2_intensity_c[i], energy=energy_intensity())[0]"
   ]
  },
  {
   "cell_type": "code",
   "execution_count": null,
   "id": "0f5e7943",
   "metadata": {},
   "outputs": [],
   "source": [
    "#Plot Generation\n",
    "\n",
    "#The results of the parameter varaition were put into a pandas data frame so the values could later be sorted\n",
    "#params is the parameter name of each bar \n",
    "#values is the difference between the max and min of the parameter variation (bar width)\n",
    "#start is the minimum point of the parameter variation and defines the starting value of each bar\n",
    "#For the desaliniation energy requirement the value 0.017 was hardcoded to make sure a bar appeared in the diagram\n",
    "#this is just for visual purpose since the actual variation is so small it doesn't show up\n",
    "#The correct values are reported as the data labels\n",
    "df = pd.DataFrame(\n",
    "    dict(\n",
    "        params = ['DAC Energy\\n Requirement','Reaction Energy\\n Requirement','Solar CO$_2$ Intensity','Desalination Energy\\n Requirement','Natural Gas\\n CO$_2$ Intensity','Coal CO$_2$ Intensity'],\n",
    "        values = [co2_sen_1[-1]-co2_sen_1[0] ,co2_sen_2[-1]-co2_sen_2[0],co2_sen_4[-1]-co2_sen_4[0],0.017,co2_sen_5[-1]-co2_sen_5[0],co2_sen_6[-1]-co2_sen_6[0]],\n",
    "        start = [co2_sen_1[0],co2_sen_2[0],co2_sen_4[0],co2_sen_3[0],co2_sen_5[0],co2_sen_6[0]]\n",
    "  \n",
    "    )\n",
    ")\n",
    "\n",
    "#The command below sorts the 'values' (barwidth) so they are displayed in the diagram as highest to lowest\n",
    "#This ensures the tornado-like appearence\n",
    "df_sorted = df.sort_values('values')\n",
    "\n",
    "#re-index the dataframe to go 0-5 after sorting\n",
    "df_sorted['index'] = np.arange(0,len(df['params']),1)\n",
    "df_sorted.set_index('index',inplace=True)\n",
    "\n",
    "#To create the broken axis create 2 subplots and merge together\n",
    "fig, (ax,ax2) = plt.subplots(1,2,sharey=True)\n",
    "p = ax.barh('params','values', data=df_sorted,left='start')\n",
    "h = ax2.barh('params','values', data=df_sorted,left='start',color='red')\n",
    "plt.suptitle('GHG Emissions Intensity',y=0.95, fontsize=16, fontweight='bold')\n",
    "ax.set_xlabel('CO$_2$ Emissions (Gt CO$_2$eq / Gt C$_6$H$_{12}$O$_6$)',fontsize=14, fontweight='bold')\n",
    "ax.xaxis.set_tick_params(labelsize=14)\n",
    "ax2.xaxis.set_tick_params(labelsize=14)\n",
    "ax.yaxis.set_tick_params(labelsize=14)\n",
    "ax2.axvline(emissions_intensity()[0], color='black', linewidth=0.8, linestyle='--',label='Nominal')\n",
    "ax.axvline(emissions_intensity()[0], color='black', linewidth=0.8, linestyle='--',label='Nominal')\n",
    "ax2.legend(loc='lower right', fontsize=14)\n",
    "\n",
    "#limits for left and right of x axis\n",
    "ax.set_xlim(left=-2.5,right=0)\n",
    "ax2.set_xlim(left=5,right=31)\n",
    "fig.subplots_adjust(wspace=0.1)\n",
    "ax.xaxis.set_label_coords(1,-0.1)\n",
    "\n",
    "ax.spines['right'].set_visible(False)\n",
    "ax2.spines['left'].set_visible(False)\n",
    "ax2.yaxis.set_ticks_position('none')\n",
    "ax.yaxis.tick_left()\n",
    "\n",
    "\n",
    "#adding the diagonal lines between broken axis\n",
    "d = .015 # how big to make the diagonal lines in axes coordinates\n",
    "kwargs = dict(transform=ax.transAxes, color='k', clip_on=False)\n",
    "ax.plot((1-d,1+d), (-d,+d), **kwargs)\n",
    "ax.plot((1-d,1+d),(1-d,1+d), **kwargs)\n",
    "\n",
    "kwargs.update(transform=ax2.transAxes)  # switch to the bottom axes\n",
    "ax2.plot((-d,+d), (1-d,1+d), **kwargs)\n",
    "ax2.plot((-d,+d), (-d,+d), **kwargs)\n",
    "\n",
    "#Setting bar labels\n",
    "#left side labels (red bars)\n",
    "shift_l = 5.5\n",
    "for i in [4,5]:\n",
    "    ax2.text(df_sorted['start'][i] - shift_l,i,np.round(df_sorted['start'][i],2),fontsize=14)\n",
    "\n",
    "#right side labels (red bars)\n",
    "shift_r = 0.8\n",
    "for i in [4,5]:\n",
    "    ax2.text(df_sorted['start'][i] + df_sorted['values'][i] + shift_r,i,np.round(df_sorted['start'][i] + df_sorted['values'][i],2),fontsize=14)\n",
    "\n",
    "#left side labels (blue bars)\n",
    "shift_l = 0.6\n",
    "for i in [0,1,2,3]:\n",
    "    ax.text(df_sorted['start'][i] - shift_l,i,np.round(df_sorted['start'][i],2),fontsize=14)\n",
    "\n",
    "#right side labels (blue bars)\n",
    "shift_r = 0.1\n",
    "for i in [0,1,2,3]:\n",
    "    ax.text(df_sorted['start'][i] + df_sorted['values'][i] + shift_r,i,np.round(df_sorted['start'][i] + df_sorted['values'][i],2),fontsize=14)\n",
    "\n",
    "    \n",
    "    \n",
    "print('Nominal case:',np.round(emissions_intensity()[0],2),'  CO2eq / Gt glucose')\n",
    "\n",
    "plt.savefig('ghgemissionstornado.pdf',bbox_inches='tight')\n",
    "plt.savefig('ghgemissionstornado.png',bbox_inches='tight')\n",
    "plt.show()"
   ]
  },
  {
   "cell_type": "markdown",
   "id": "ae64942e",
   "metadata": {},
   "source": [
    "### Land-use Intensity, Panel (c)"
   ]
  },
  {
   "cell_type": "code",
   "execution_count": null,
   "id": "caabaf02",
   "metadata": {},
   "outputs": [],
   "source": [
    "#Parameter Variation\n",
    "#(hectares/million hectares)\n",
    "million_hectares=1e6\n",
    "\n",
    "#Parameter: Reaction energy req\n",
    "land_u1 = np.zeros(len(E_reaction)) #creates empty array to store sensitivity results\n",
    "\n",
    "for i in range(len(E_reaction)):\n",
    "    land_u1[i]= land_intensity(energy=energy_intensity(E_reaction=E_reaction[i]))/million_hectares\n",
    "\n",
    "#Parameter: DAC energy req\n",
    "land_u2=np.zeros(len(E_DAC)) #creates empty array to store sensitivity results\n",
    "\n",
    "for i in range(len(E_DAC)):\n",
    "    land_u2[i]= land_intensity(energy=energy_intensity(E_DAC=E_DAC[i]))/million_hectares\n",
    "\n",
    "#Parameter: Water efficiency\n",
    "land_u3 = np.zeros(len(water_efficiency)) #creates empty array to store sensitivity results\n",
    "\n",
    "for i in range(len(water_efficiency)):\n",
    "    land_u3[i]= land_intensity(energy=energy_intensity(water_efficiency=water_efficiency[i]))/million_hectares\n",
    "\n",
    "#Parameter: LAU factor\n",
    "lau_factor = np.linspace(229,552,20) #m2/GWh\n",
    "land_u4 = np.zeros(len(lau_factor)) #creates empty array to store sensitivity results\n",
    "\n",
    "for i in range(len(lau_factor)):\n",
    "    land_u4[i] = land_intensity(energy=energy_intensity(), lau=lau_factor[i])/million_hectares"
   ]
  },
  {
   "cell_type": "code",
   "execution_count": null,
   "id": "87b0df12",
   "metadata": {},
   "outputs": [],
   "source": [
    "#Plot Generation\n",
    "\n",
    "#The results of the parameter varaition were put into a pandas data frame so the values could later be sorted\n",
    "#params is the parameter name of each bar \n",
    "#values is the difference between the max and min of the parameter variation (bar width)\n",
    "#start is the minimum point of the parameter variation and defines the starting value of each bar\n",
    "#For the desaliniation energy requirement the value 0.008 was hardcoded to make sure a bar appeared in the diagram\n",
    "#this is just for visual purpose since the actual variation is so small it doesn't show up\n",
    "#The correct values are reported as the data labels\n",
    "df = pd.DataFrame(\n",
    "    dict(\n",
    "        params = ['DAC Energy\\n Requirement','Reaction Energy\\n Requirement','Desalination Energy\\n Requirement','Land-use\\n Efficiency'],\n",
    "        values = [land_u2[-1]-land_u2[0] ,land_u1[-1]-land_u1[0], 0.008, land_u4[-1]-land_u4[0]],\n",
    "        start = [land_u2[0],land_u1[0],land_u3[0],land_u4[0]]\n",
    "    )\n",
    ")\n",
    "\n",
    "#The command below sorts the 'values' (barwidth) so they are displayed in the diagram as highest to lowest\n",
    "#This ensures the tornado-like appearence\n",
    "df_sorted = df.sort_values('values')\n",
    "\n",
    "#re-index the dataframe to go 0-5 after sorting\n",
    "df_sorted['index']= np.arange(0,len(df['params']),1)\n",
    "df_sorted.set_index('index',inplace=True)\n",
    "\n",
    "fig, ax = plt.subplots()\n",
    "p = ax.barh('params','values', data=df_sorted,left='start')\n",
    "ax.set_title('Land-use Intensity',fontsize=16, fontweight='bold')\n",
    "ax.set_xlabel('Land-use (million hectares / Gt C$_6$H$_{12}$O$_6$)',fontsize=14, fontweight='bold')\n",
    "ax.xaxis.set_tick_params(labelsize=14)\n",
    "ax.yaxis.set_tick_params(labelsize=14)\n",
    "ax.axvline(land_intensity()/million_hectares, color='black', linewidth=0.8, linestyle='--',label='Nominal')\n",
    "ax.legend(loc='lower right',fontsize=14)\n",
    "\n",
    "#limits for left and right of x axis\n",
    "ax.set_xlim(left=.1)\n",
    "ax.set_xlim(right=1.5)\n",
    "\n",
    "#Setting bar labels\n",
    "#left side labels\n",
    "shift_l = 0.15\n",
    "for i in range(len(df_sorted['start'])):\n",
    "    plt.text(df_sorted['start'][i] - shift_l,i,np.round(df_sorted['start'][i],2),fontsize=14)\n",
    "\n",
    "#right side labels\n",
    "shift_r = 0.02\n",
    "for i in range(len(df_sorted['start'])):\n",
    "    plt.text(df_sorted['start'][i] + df_sorted['values'][i] + shift_r,i,np.round(df_sorted['start'][i] + df_sorted['values'][i],2),fontsize=14)\n",
    "\n",
    "\n",
    "print('Nominal case:', np.round((land_intensity()/million_hectares),2),' million hectares / Gt glucose')\n",
    "\n",
    "plt.savefig('landusetornado.pdf', bbox_inches='tight')\n",
    "plt.savefig('landusetornado.png',bbox_inches='tight')\n",
    "\n",
    "plt.show()"
   ]
  },
  {
   "cell_type": "markdown",
   "id": "4f7aefb4",
   "metadata": {},
   "source": [
    "### Artificial Carbohydrate Cost, Panel (d)"
   ]
  },
  {
   "cell_type": "code",
   "execution_count": null,
   "id": "da65b21f",
   "metadata": {},
   "outputs": [],
   "source": [
    "#Parameter Variation\n",
    "\n",
    "#($/trillion $)\n",
    "trillion_USD = 1e12\n",
    "\n",
    "#Parameter: DAC energy req\n",
    "cost_sen_1 = np.zeros(len(E_DAC)) #creates empty array to store sensitivity results\n",
    "\n",
    "for i in range(len(E_DAC)):\n",
    "    cost_sen_1[i] = carb_cost(energy=energy_intensity(E_DAC=E_DAC[i])) / trillion_USD\n",
    "    \n",
    "#Parameter: Reaction energy req\n",
    "cost_sen_2 = np.zeros(len(E_reaction)) #creates empty array to store sensitivity results\n",
    "\n",
    "for i in range(len(E_reaction)):\n",
    "    cost_sen_2[i] = carb_cost(energy=energy_intensity(E_reaction=E_reaction[i])) / trillion_USD\n",
    "    \n",
    "#Parameter: Solar Energy cost see SI Table 1\n",
    "energy_cost_s = np.linspace(50,200,20) #$/MWh\n",
    "cost_sen_3 = np.zeros(len(energy_cost_s)) #creates empty array to store sensitivity results\n",
    "\n",
    "for i in range(len(energy_cost_s)):\n",
    "    cost_sen_3[i] = carb_cost(energy=energy_intensity(), energy_cost=energy_cost_s[i]) / trillion_USD\n",
    "\n",
    "#Parameter: Water efficiency\n",
    "cost_sen_4 = np.zeros(len(water_efficiency)) #creates empty array to store sensitivity results\n",
    "\n",
    "for i in range(len(water_efficiency)):\n",
    "    cost_sen_4[i] = carb_cost(energy=energy_intensity(water_efficiency=water_efficiency[i])) / trillion_USD\n",
    "    \n",
    "#Parameter: NG Energy cost see SI Table 1\n",
    "energy_cost_ng = np.linspace(50,166,20) #$/MWh\n",
    "cost_sen_5 = np.zeros(len(energy_cost_ng)) #creates empty array to store sensitivity results\n",
    "\n",
    "for i in range(len(energy_cost_ng)):\n",
    "    cost_sen_5[i] = carb_cost(energy=energy_intensity(), energy_cost=energy_cost_ng[i]) / trillion_USD\n",
    "\n",
    "#Parameter: Coal Energy cost see SI Table 1\n",
    "energy_cost_c = np.linspace(50,112,20) #$/MWh\n",
    "cost_sen_6 = np.zeros(len(energy_cost_c)) #creates empty array to store sensitivity results\n",
    "\n",
    "for i in range(len(energy_cost_c)):\n",
    "    cost_sen_6[i] = carb_cost(energy=energy_intensity(), energy_cost=energy_cost_c[i]) / trillion_USD"
   ]
  },
  {
   "cell_type": "code",
   "execution_count": null,
   "id": "84da1ebc",
   "metadata": {},
   "outputs": [],
   "source": [
    "#Plot Generation\n",
    "\n",
    "#The results of the parameter varaition were put into a pandas data frame so the values could later be sorted\n",
    "#params is the parameter name of each bar \n",
    "#values is the difference between the max and min of the parameter variation (bar width)\n",
    "#start is the minimum point of the parameter variation and defines the starting value of each bar\n",
    "#For the desaliniation energy requirement the value 0.018 was hardcoded to make sure a bar appeared in the diagram\n",
    "#this is just for visual purpose since the actual variation is so small it doesn't show up\n",
    "#The correct values are reported as the data labels\n",
    "df = pd.DataFrame(\n",
    "    dict(\n",
    "        params = ['DAC Energy\\n Requirement','Reaction Energy\\n Requirement','Electricity\\n from Solar','Desalination Energy\\n Requirement','Electricity from\\n Natural Gas','Electricity from Coal'],\n",
    "        values = [cost_sen_1[-1]-cost_sen_1[0] ,cost_sen_2[-1]-cost_sen_2[0],cost_sen_3[-1]-cost_sen_3[0],0.018,cost_sen_5[-1]-cost_sen_5[0],cost_sen_6[-1]-cost_sen_6[0]],\n",
    "        start = [cost_sen_1[0],cost_sen_2[0],cost_sen_3[0],cost_sen_4[0],cost_sen_5[0],cost_sen_6[0]]\n",
    "    )\n",
    ")\n",
    "\n",
    "#The command below sorts the 'values' (barwidth) so they are displayed in the diagram as highest to lowest\n",
    "#This ensures the tornado-like appearence\n",
    "df_sorted = df.sort_values('values')\n",
    "\n",
    "#re-index the dataframe to go 0-5 after sorting\n",
    "df_sorted['index'] = np.arange(0,len(df['params']),1)\n",
    "df_sorted.set_index('index',inplace=True)\n",
    "\n",
    "fig, ax = plt.subplots()\n",
    "\n",
    "p = ax.barh('params','values', data=df_sorted,left='start')\n",
    "ax.set_title('Artificial Carbohydrate Cost',fontsize=16, fontweight='bold')\n",
    "ax.set_xlabel('Cost (trillion USD / Gt C$_6$H$_{12}$O$_6$)',fontsize=14, fontweight='bold')\n",
    "ax.xaxis.set_tick_params(labelsize=14)\n",
    "ax.yaxis.set_tick_params(labelsize=14)\n",
    "ax.axvline(carb_cost()/trillion_USD, color='black', linewidth=0.8, linestyle='--',label=' Nominal  ')\n",
    "ax.legend(fontsize=14)\n",
    "\n",
    "#limits for left and right of x axis\n",
    "ax.set_xlim(left=0.1)\n",
    "ax.set_xlim(right=3.5)\n",
    "\n",
    "#Setting bar labels\n",
    "#left side labels\n",
    "shift_l = 0.35\n",
    "for i in range(len(df_sorted['start'])):\n",
    "    plt.text(df_sorted['start'][i] - shift_l,i,np.round(df_sorted['start'][i],2),fontsize=14)\n",
    "\n",
    "#right side labels\n",
    "shift_r = 0.02\n",
    "for i in range(len(df_sorted['start'])):\n",
    "    plt.text(df_sorted['start'][i] + df_sorted['values'][i] + shift_r,i,np.round(df_sorted['start'][i] + df_sorted['values'][i],2),fontsize=14)\n",
    "\n",
    "\n",
    "print('Nominal case:', np.round(carb_cost()/trillion_USD,2),' trillion USD / Gt glucose')\n",
    "\n",
    "plt.savefig('costtornado.pdf',bbox_inches='tight')\n",
    "plt.savefig('costtornado.png',bbox_inches='tight')\n",
    "plt.show()"
   ]
  },
  {
   "cell_type": "markdown",
   "id": "296ae4d6",
   "metadata": {},
   "source": [
    "## Two Dimentional Sensitivity"
   ]
  },
  {
   "cell_type": "markdown",
   "id": "45ec57b1",
   "metadata": {},
   "source": [
    "This section of code generates Figure S1 in the SI."
   ]
  },
  {
   "cell_type": "markdown",
   "id": "37d4466a",
   "metadata": {},
   "source": [
    "### Energy Intensity, Panel (a)"
   ]
  },
  {
   "cell_type": "code",
   "execution_count": null,
   "id": "f3d3dea4",
   "metadata": {},
   "outputs": [],
   "source": [
    "#Create Mesh\n",
    "E_reaction = np.linspace(2804,8000,20)\n",
    "E_DAC = np.linspace(50,300,20)\n",
    "\n",
    "r,dac = np.meshgrid(E_reaction,E_DAC)\n",
    "\n",
    "#(TWh/PWh)\n",
    "TWh_to_PWh = 1000\n",
    "\n",
    "total_E = energy_intensity(E_DAC=dac, E_reaction=r) / kj_per_kg_to_TWh_per_Gt / TWh_to_PWh"
   ]
  },
  {
   "cell_type": "code",
   "execution_count": null,
   "id": "9fd5aa40",
   "metadata": {},
   "outputs": [],
   "source": [
    "#Generate Plot\n",
    "fig, ax = plt.subplots()\n",
    "\n",
    "plt.contourf(r,dac,total_E, cmap='autumn',levels=40)\n",
    "cbar=plt.colorbar()\n",
    "c3 = plt.contour(r,dac,total_E, colors='black', linewidths=0.5, levels=12)\n",
    "plt.scatter(7800,243, color=\"green\",s=150, label = \"Nominal\", marker = \"*\") #Plotting nominal values (see SI)\n",
    "plt.title('Total Energy Intensity',weight = 'bold',y=1.05, fontsize=16)\n",
    "plt.xlabel('Reaction Energy Requirement\\n (kJ/mol of hexose)',weight = 'bold', fontsize=14)\n",
    "plt.legend(loc ='upper left', fontsize=14)\n",
    "ax.xaxis.set_tick_params(labelsize=14)\n",
    "ax.yaxis.set_tick_params(labelsize=14)\n",
    "ax.clabel(c3, c3.levels, inline=True, fontsize=10)\n",
    "plt.ylabel('DAC Energy Requirement\\n (kJ/mol of CO$_2$)',weight = 'bold', fontsize=14)\n",
    "cbar.set_label('PWh / Gt C$_6$H$_{12}$O$_6$',weight = 'bold', fontsize=14)\n",
    "plt.savefig('energyheatmap.png',bbox_inches='tight')\n",
    "plt.savefig('energyheatmap.pdf',bbox_inches='tight')\n",
    "plt.show()"
   ]
  },
  {
   "cell_type": "markdown",
   "id": "633969cc",
   "metadata": {},
   "source": [
    "### GHG Emissions Intensity, Panel (b)"
   ]
  },
  {
   "cell_type": "code",
   "execution_count": null,
   "id": "3771674c",
   "metadata": {},
   "outputs": [],
   "source": [
    "#Create Mesh\n",
    "CO2_intensity = np.linspace(0,1750,20)\n",
    "\n",
    "r,co2 = np.meshgrid(E_reaction,CO2_intensity)\n",
    "\n",
    "emissions =  emissions_intensity(CO2_intensity=co2,energy=energy_intensity(E_reaction=r))[0]"
   ]
  },
  {
   "cell_type": "code",
   "execution_count": null,
   "id": "2d7e3df9",
   "metadata": {},
   "outputs": [],
   "source": [
    "#Generate Plot\n",
    "fig, ax = plt.subplots()\n",
    "\n",
    "plt.contourf(r,co2,emissions, cmap='autumn',levels=60)\n",
    "cbar = plt.colorbar()\n",
    "cs = plt.contour(r,co2,emissions, colors='k', linewidths=0.5, levels=12)\n",
    "plt.scatter(7800,10, color=\"green\",s=150, label = \"Nominal\", marker = \"*\") #Plotting nominal values (see SI)\n",
    "plt.title('GHG Emissions Intensity', weight='bold',y=1.05, fontsize=16)\n",
    "plt.xlabel('Reaction Energy Requirement\\n (kJ/mol of hexose)',weight = 'bold', fontsize=14)\n",
    "plt.yticks([0,250,500,750,1000,1250,1500,1750])\n",
    "plt.ylabel('CO$_2$ Intensity\\n (gCO$_2$eq / kWh)',weight = 'bold', fontsize=14)\n",
    "ax.xaxis.set_tick_params(labelsize=14)\n",
    "ax.yaxis.set_tick_params(labelsize=14)\n",
    "plt.legend(loc='upper left', fontsize=14)\n",
    "ax.clabel(cs, cs.levels, inline=True, fontsize=10)\n",
    "cbar.set_label('Gt CO$_2$eq / Gt C$_6$H$_{12}$O$_6$',weight = 'bold', fontsize=14)\n",
    "plt.savefig('ghgheatmap.pdf',bbox_inches='tight')\n",
    "plt.savefig('ghgheatmap.png',bbox_inches='tight')\n",
    "plt.show()"
   ]
  },
  {
   "cell_type": "markdown",
   "id": "76bb9fd9",
   "metadata": {},
   "source": [
    "### Land-use Intensity, Panel (c)"
   ]
  },
  {
   "cell_type": "code",
   "execution_count": null,
   "id": "9b152a08",
   "metadata": {},
   "outputs": [],
   "source": [
    "#Create Mesh\n",
    "lau = np.linspace(229,551,20)\n",
    "\n",
    "r,l = np.meshgrid(E_reaction,lau)\n",
    "\n",
    "land = land_intensity(energy=energy_intensity(E_reaction=r),lau=l)/million_hectares"
   ]
  },
  {
   "cell_type": "code",
   "execution_count": null,
   "id": "332f2ade",
   "metadata": {},
   "outputs": [],
   "source": [
    "#Generate Plot\n",
    "fig, ax = plt.subplots()\n",
    "\n",
    "plt.contourf(r,l,land, cmap='autumn',levels=40)\n",
    "cbar = plt.colorbar()\n",
    "c1 = plt.contour(r,l,land, colors='k', linewidths=0.5, levels=9)\n",
    "plt.scatter(7800,500, color=\"green\",s=150, label = \"Nominal\", marker = \"*\") #Plotting nominal values (see SI)\n",
    "plt.title('Land-use Intensity', weight='bold',y=1.05, fontsize=16)\n",
    "plt.xlabel('Reaction Energy Requirement \\n(kJ/mol of hexose)',weight = 'bold', fontsize=14)\n",
    "plt.ylabel('Land-use Efficiency\\n (m$^2$/GWh)',weight = 'bold', fontsize=14)\n",
    "ax.xaxis.set_tick_params(labelsize=14)\n",
    "ax.yaxis.set_tick_params(labelsize=14)\n",
    "plt.legend(loc = 'upper left', fontsize=14)\n",
    "ax.clabel(c1, c1.levels, inline=True, fontsize=10)\n",
    "cbar.set_label('million hectares / Gt C$_6$H$_{12}$O$_6$',weight = 'bold', fontsize=14)\n",
    "plt.savefig('landheatmap.png',bbox_inches='tight')\n",
    "plt.savefig('landheatmap.pdf',bbox_inches='tight')\n",
    "plt.show()"
   ]
  },
  {
   "cell_type": "markdown",
   "id": "20f01c5c",
   "metadata": {},
   "source": [
    "### Artificial Carbohydrate Cost, Panel (d)"
   ]
  },
  {
   "cell_type": "code",
   "execution_count": null,
   "id": "33171449",
   "metadata": {},
   "outputs": [],
   "source": [
    "#Create Mesh\n",
    "cost = np.linspace(50,200,20)\n",
    "\n",
    "r,c = np.meshgrid(E_reaction,cost)\n",
    "\n",
    "price = carb_cost(energy=energy_intensity(E_reaction=r), energy_cost=c)/trillion_USD"
   ]
  },
  {
   "cell_type": "code",
   "execution_count": null,
   "id": "aa0de8ad",
   "metadata": {},
   "outputs": [],
   "source": [
    "#Generate Plot\n",
    "fig, ax = plt.subplots()\n",
    "\n",
    "plt.contourf(r,c,price, cmap='autumn', levels=40)\n",
    "cbar = plt.colorbar()\n",
    "c2 = plt.contour(r,c,price, colors='k', linewidths=0.5, levels=11)\n",
    "plt.scatter(7800,80, color=\"green\",s=150, label = \"Nominal\", marker = \"*\") #Plotting nominal values (see SI)\n",
    "plt.title('Artificial Carbohydrate Cost', weight='bold',y=1.05, fontsize=16)\n",
    "plt.xlabel('Reaction Energy Requirement\\n (kJ/mol of hexose)',weight = 'bold', fontsize=14)\n",
    "plt.ylabel('Energy Cost ($/MWh)',weight = 'bold', fontsize=14)\n",
    "plt.legend(loc='upper left', fontsize=14)\n",
    "ax.xaxis.set_tick_params(labelsize=14)\n",
    "ax.yaxis.set_tick_params(labelsize=14)\n",
    "ax.clabel(c2, c2.levels, inline=True, fontsize=10)\n",
    "cbar.set_label('trillion USD / Gt C$_6$H$_{12}$O$_6$',weight = 'bold', fontsize=14)\n",
    "plt.savefig('costheatmap.png',bbox_inches='tight')\n",
    "plt.savefig('costheatmap.pdf',bbox_inches='tight')\n",
    "plt.show()"
   ]
  },
  {
   "cell_type": "code",
   "execution_count": null,
   "id": "4725831b",
   "metadata": {},
   "outputs": [],
   "source": []
  }
 ],
 "metadata": {
  "kernelspec": {
   "display_name": "Python 3 (ipykernel)",
   "language": "python",
   "name": "python3"
  },
  "language_info": {
   "codemirror_mode": {
    "name": "ipython",
    "version": 3
   },
   "file_extension": ".py",
   "mimetype": "text/x-python",
   "name": "python",
   "nbconvert_exporter": "python",
   "pygments_lexer": "ipython3",
   "version": "3.9.12"
  }
 },
 "nbformat": 4,
 "nbformat_minor": 5
}
